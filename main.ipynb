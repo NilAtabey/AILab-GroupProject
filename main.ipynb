{
 "cells": [
  {
   "cell_type": "markdown",
   "metadata": {},
   "source": [
    "$$\n",
    "\\Huge G \\cup n \\; \\sqrt{-1} \\; \\ell \\; e \\; \\emptyset\n",
    "$$\n",
    "\n",
    "<p style=\"text-align: center\">A lipsync project, made by Nil Atabey, Leonardo Biason and Günak Yuzak</p>\n",
    "\n",
    "\n",
    "---"
   ]
  },
  {
   "cell_type": "markdown",
   "metadata": {},
   "source": [
    "<h2 align=\"center\"><b>Table of Contents</b></h2>\n",
    "\n",
    "1. [Code structure](#1-code-structure)\n",
    "2. [Import of the Packages](#2-import-of-the-packages)\n",
    "3. [Data Loading](#3-data-loading)\n",
    "4. [Model Settings](#4-model-settings)\n",
    "\n",
    "$$\n",
    "\\newcommand{\\goto}{\\; \\longrightarrow \\;}\n",
    "\\newcommand{\\tdconv}{\\text{2D Convolution} }\n",
    "\\newcommand{\\relu}{\\text{ReLU} }\n",
    "$$\n",
    "\n",
    "---"
   ]
  },
  {
   "cell_type": "markdown",
   "metadata": {},
   "source": [
    "## 1) Code Structure\n",
    "\n",
    "The code structure is the following:\n",
    "\n",
    "```python\n",
    "project\n",
    " ├ assets\n",
    " │  ├ cnn.py\n",
    " │  └ dataloader.py\n",
    " └ data\n",
    "```\n",
    "\n",
    "---"
   ]
  },
  {
   "cell_type": "markdown",
   "metadata": {},
   "source": [
    "## 2) Import of the Packages"
   ]
  },
  {
   "cell_type": "markdown",
   "metadata": {},
   "source": [
    "Standard packages needed that can be installed with either `conda` or `pip`:"
   ]
  },
  {
   "cell_type": "code",
   "execution_count": 1,
   "metadata": {},
   "outputs": [],
   "source": [
    "# Pytorch imports\n",
    "import torch\n",
    "from torch.utils.data import DataLoader\n",
    "from torchvision import datasets\n",
    "from torchvision.transforms import ToTensor\n",
    "from torch import nn\n",
    "import torchmetrics\n",
    "import torchinfo\n",
    "\n",
    "# Utils imports\n",
    "import numpy as np\n",
    "import os\n",
    "import matplotlib.pyplot as plt"
   ]
  },
  {
   "cell_type": "markdown",
   "metadata": {},
   "source": [
    "Custom imports from our libraries:"
   ]
  },
  {
   "cell_type": "code",
   "execution_count": 2,
   "metadata": {},
   "outputs": [],
   "source": [
    "from assets.gnldataloader import GNLDataLoader\n",
    "#from assets.cnn import LabialCNN"
   ]
  },
  {
   "cell_type": "markdown",
   "metadata": {},
   "source": [
    "---"
   ]
  },
  {
   "cell_type": "markdown",
   "metadata": {},
   "source": [
    "## 3) Data Loading"
   ]
  },
  {
   "cell_type": "markdown",
   "metadata": {},
   "source": [
    "In order to clean the code and make sure that there were the same number of videos and labels, the following code was performed:\n",
    "\n",
    "```python\n",
    "a, b = sorted(os.listdir(\"data/matching/fronts\")), sorted(os.listdir(path_labels))\n",
    "a_new, b_new = set([item[:-4] for item in a]), set([item[:-5] for item in b])\n",
    "tot = a_new.intersection(b_new)\n",
    "print(tot)\n",
    "\n",
    "for item in b:\n",
    "    if item[:-5] in tot:\n",
    "        prev_path = os.path.join(path_labels, item)\n",
    "        os.rename(prev_path, os.path.join(\"data/matching/labels\", item))\n",
    "\n",
    "print(len(tot))\n",
    "```"
   ]
  },
  {
   "cell_type": "code",
   "execution_count": 4,
   "metadata": {},
   "outputs": [
    {
     "name": "stdout",
     "output_type": "stream",
     "text": [
      "[DEBUG] The data dir has been recognized\n",
      "[DEBUG] The label dir has been recognized\n",
      "[DEBUG] Items in the data folder: 5319\n",
      "[DEBUG] Items in the labels folder: 5319\n",
      "[DEBUG] Index of the dataloader: slice(1, 3, None)\n",
      "[DEBUG] Data folder: ['s10_l_bbay5n.mov', 's10_l_bbbg8s.mov']\n",
      "[DEBUG] Labels folder: ['s10_l_bbay5n.json', 's10_l_bbbg8s.json']\n",
      "[DEBUG] Trying to open the video at path data/matching/fronts/s10_l_bbay5n.mov\n"
     ]
    },
    {
     "name": "stdout",
     "output_type": "stream",
     "text": [
      "[DEBUG] Trying to open the video at path data/matching/fronts/s10_l_bbbg8s.mov\n",
      "tensor([37,  2,  9, 14, 37,  2, 12, 21,  5, 37,  1, 20, 37, 25, 37,  6,  9, 22,\n",
      "         5, 37, 14, 15, 23])\n",
      "tensor([37,  2,  9, 14, 37,  2, 12, 21,  5, 37,  2, 25, 37,  7, 37,  5,  9,  7,\n",
      "         8, 20, 37, 19, 15, 15, 14])\n"
     ]
    },
    {
     "data": {
      "text/plain": [
       "([array([[[ 5.21623414e-01,  5.21623414e-01,  4.73855119e-01, ...,\n",
       "            2.35013643e-01,  3.06666086e-01,  3.30550234e-01],\n",
       "          [ 5.21623414e-01,  4.97739267e-01,  4.73855119e-01, ...,\n",
       "            2.35013643e-01,  3.06666086e-01,  3.30550234e-01],\n",
       "          [ 4.97739267e-01,  4.97739267e-01,  4.73855119e-01, ...,\n",
       "            2.11129496e-01,  2.58897791e-01,  2.82781938e-01],\n",
       "          ...,\n",
       "          [ 6.78246101e-02,  6.78246101e-02,  9.17087576e-02, ...,\n",
       "           -2.60719992e+00, -2.63108407e+00, -2.65496822e+00],\n",
       "          [ 9.17087576e-02,  6.78246101e-02,  9.17087576e-02, ...,\n",
       "           -2.55943162e+00, -2.63108407e+00, -2.65496822e+00],\n",
       "          [ 9.17087576e-02,  9.17087576e-02,  9.17087576e-02, ...,\n",
       "           -2.51166333e+00, -2.63108407e+00, -2.65496822e+00]],\n",
       "  \n",
       "         [[ 4.73058565e-01,  3.97934661e-01,  3.47852058e-01, ...,\n",
       "            1.72562947e-01,  1.97604249e-01,  2.22645550e-01],\n",
       "          [ 4.22975962e-01,  3.72893359e-01,  3.22810756e-01, ...,\n",
       "            1.47521646e-01,  1.72562947e-01,  1.72562947e-01],\n",
       "          [ 3.72893359e-01,  3.22810756e-01,  2.72728153e-01, ...,\n",
       "            7.23977414e-02,  9.74390429e-02,  1.22480344e-01],\n",
       "          ...,\n",
       "          [ 1.97604249e-01,  1.22480344e-01,  1.22480344e-01, ...,\n",
       "           -2.78231063e+00, -2.80735193e+00, -2.83239323e+00],\n",
       "          [ 2.22645550e-01,  1.72562947e-01,  1.22480344e-01, ...,\n",
       "           -2.78231063e+00, -2.80735193e+00, -2.83239323e+00],\n",
       "          [ 2.22645550e-01,  1.97604249e-01,  1.47521646e-01, ...,\n",
       "           -2.78231063e+00, -2.80735193e+00, -2.80735193e+00]],\n",
       "  \n",
       "         [[ 1.78121402e-01,  1.24250784e-01,  7.03801664e-02, ...,\n",
       "           -3.06714158e-01, -2.79778849e-01, -2.25908231e-01],\n",
       "          [ 1.78121402e-01,  9.73154752e-02,  4.34448575e-02, ...,\n",
       "           -3.60584775e-01, -3.06714158e-01, -2.79778849e-01],\n",
       "          [ 1.51186093e-01,  4.34448575e-02,  1.65095486e-02, ...,\n",
       "           -4.41390702e-01, -3.60584775e-01, -3.33649467e-01],\n",
       "          ...,\n",
       "          [ 1.51186093e-01,  9.73154752e-02,  7.03801664e-02, ...,\n",
       "           -3.10798628e+00, -3.10798628e+00, -3.08105097e+00],\n",
       "          [ 1.78121402e-01,  1.24250784e-01,  7.03801664e-02, ...,\n",
       "           -3.10798628e+00, -3.10798628e+00, -3.08105097e+00],\n",
       "          [ 2.05056711e-01,  1.51186093e-01,  9.73154752e-02, ...,\n",
       "           -3.10798628e+00, -3.10798628e+00, -3.08105097e+00]],\n",
       "  \n",
       "         ...,\n",
       "  \n",
       "         [[ 1.83604122e-01,  1.56451515e-01,  1.29298907e-01, ...,\n",
       "           -4.68058460e-01, -4.68058460e-01, -4.68058460e-01],\n",
       "          [ 1.29298907e-01,  1.02146300e-01,  7.49936920e-02, ...,\n",
       "           -5.49516283e-01, -5.49516283e-01, -5.49516283e-01],\n",
       "          [ 1.29298907e-01,  7.49936920e-02,  4.78410844e-02, ...,\n",
       "           -6.03821498e-01, -6.03821498e-01, -6.03821498e-01],\n",
       "          ...,\n",
       "          [ 1.02146300e-01,  1.02146300e-01,  7.49936920e-02, ...,\n",
       "           -3.10186140e+00, -3.10186140e+00, -3.07470879e+00],\n",
       "          [ 1.29298907e-01,  1.29298907e-01,  1.02146300e-01, ...,\n",
       "           -3.10186140e+00, -3.10186140e+00, -3.07470879e+00],\n",
       "          [ 1.29298907e-01,  1.29298907e-01,  1.02146300e-01, ...,\n",
       "           -3.10186140e+00, -3.10186140e+00, -3.07470879e+00]],\n",
       "  \n",
       "         [[ 2.17950873e-01,  1.64119450e-01,  1.10288026e-01, ...,\n",
       "           -4.01110498e-01, -3.74194786e-01, -3.20363362e-01],\n",
       "          [ 1.91035162e-01,  1.37203738e-01,  8.33723145e-02, ...,\n",
       "           -4.54941921e-01, -4.54941921e-01, -4.01110498e-01],\n",
       "          [ 1.37203738e-01,  1.10288026e-01,  5.64566027e-02, ...,\n",
       "           -5.08773345e-01, -5.35689057e-01, -4.81857633e-01],\n",
       "          ...,\n",
       "          [ 8.33723145e-02,  5.64566027e-02,  5.64566027e-02, ...,\n",
       "           -3.06576597e+00, -3.03885025e+00, -3.03885025e+00],\n",
       "          [ 1.10288026e-01,  5.64566027e-02,  5.64566027e-02, ...,\n",
       "           -3.06576597e+00, -3.03885025e+00, -3.03885025e+00],\n",
       "          [ 1.37203738e-01,  1.10288026e-01,  8.33723145e-02, ...,\n",
       "           -3.06576597e+00, -3.03885025e+00, -3.03885025e+00]],\n",
       "  \n",
       "         [[ 2.69821328e-01,  1.88724089e-01,  1.88724089e-01, ...,\n",
       "           -4.05989000e-01, -3.78956586e-01, -3.24891760e-01],\n",
       "          [ 2.42788915e-01,  1.88724089e-01,  1.61691676e-01, ...,\n",
       "           -4.33021413e-01, -4.60053826e-01, -4.05989000e-01],\n",
       "          [ 2.15756502e-01,  1.61691676e-01,  1.34659263e-01, ...,\n",
       "           -5.14118652e-01, -5.41151065e-01, -4.60053826e-01],\n",
       "          ...,\n",
       "          [-5.02802884e-04, -5.02802884e-04, -5.02802884e-04, ...,\n",
       "           -3.08219790e+00, -3.05516548e+00, -3.05516548e+00],\n",
       "          [ 2.65296102e-02,  2.65296102e-02,  2.65296102e-02, ...,\n",
       "           -3.08219790e+00, -3.05516548e+00, -3.05516548e+00],\n",
       "          [ 5.35620233e-02,  5.35620233e-02,  5.35620233e-02, ...,\n",
       "           -3.08219790e+00, -3.05516548e+00, -3.05516548e+00]]]),\n",
       "  array([[[ 2.72682967e-02, -3.33056327e-04, -5.55357624e-02, ...,\n",
       "           -1.10438718e+00, -1.07678583e+00, -1.04918447e+00],\n",
       "          [-3.33056327e-04, -2.79344094e-02, -8.31371155e-02, ...,\n",
       "           -1.18719124e+00, -1.18719124e+00, -1.13198853e+00],\n",
       "          [-2.79344094e-02, -5.55357624e-02, -1.38339822e-01, ...,\n",
       "           -1.26999530e+00, -1.26999530e+00, -1.24239394e+00],\n",
       "          ...,\n",
       "          [-3.33056327e-04, -3.33056327e-04, -3.33056327e-04, ...,\n",
       "           -3.00888054e+00, -2.98127919e+00, -2.98127919e+00],\n",
       "          [-3.33056327e-04, -3.33056327e-04, -3.33056327e-04, ...,\n",
       "           -3.00888054e+00, -2.98127919e+00, -2.95367783e+00],\n",
       "          [-3.33056327e-04, -3.33056327e-04, -3.33056327e-04, ...,\n",
       "           -3.00888054e+00, -2.98127919e+00, -2.92607648e+00]],\n",
       "  \n",
       "         [[-4.64065670e-02, -1.58694103e-01, -2.14837870e-01, ...,\n",
       "           -1.36578511e+00, -1.30964134e+00, -1.28156946e+00],\n",
       "          [-7.44784509e-02, -1.58694103e-01, -2.42909754e-01, ...,\n",
       "           -1.42192888e+00, -1.36578511e+00, -1.33771323e+00],\n",
       "          [-1.30622219e-01, -1.86765986e-01, -2.70981638e-01, ...,\n",
       "           -1.47807265e+00, -1.42192888e+00, -1.42192888e+00],\n",
       "          ...,\n",
       "          [-4.64065670e-02, -4.64065670e-02, -1.83346831e-02, ...,\n",
       "           -3.10624191e+00, -3.10624191e+00, -3.10624191e+00],\n",
       "          [-4.64065670e-02, -4.64065670e-02, -1.83346831e-02, ...,\n",
       "           -3.10624191e+00, -3.10624191e+00, -3.10624191e+00],\n",
       "          [-4.64065670e-02, -4.64065670e-02, -1.83346831e-02, ...,\n",
       "           -3.10624191e+00, -3.10624191e+00, -3.10624191e+00]],\n",
       "  \n",
       "         [[-5.49166513e-02, -8.30761485e-02, -1.67554640e-01, ...,\n",
       "           -1.49105101e+00, -1.46289151e+00, -1.43473201e+00],\n",
       "          [-5.49166513e-02, -8.30761485e-02, -1.67554640e-01, ...,\n",
       "           -1.51921050e+00, -1.51921050e+00, -1.49105101e+00],\n",
       "          [-8.30761485e-02, -1.39395143e-01, -1.95714137e-01, ...,\n",
       "           -1.57552950e+00, -1.57552950e+00, -1.51921050e+00],\n",
       "          ...,\n",
       "          [-5.49166513e-02, -5.49166513e-02, -5.49166513e-02, ...,\n",
       "           -3.12430184e+00, -3.12430184e+00, -3.12430184e+00],\n",
       "          [-2.67571542e-02, -5.49166513e-02, -5.49166513e-02, ...,\n",
       "           -3.12430184e+00, -3.12430184e+00, -3.12430184e+00],\n",
       "          [ 2.95618401e-02, -2.67571542e-02, -5.49166513e-02, ...,\n",
       "           -3.12430184e+00, -3.12430184e+00, -3.12430184e+00]],\n",
       "  \n",
       "         ...,\n",
       "  \n",
       "         [[ 3.23420618e-01,  3.23420618e-01,  2.67432559e-01, ...,\n",
       "           -7.40352490e-01, -7.12358461e-01, -6.56370403e-01],\n",
       "          [ 3.23420618e-01,  2.67432559e-01,  2.11444501e-01, ...,\n",
       "           -7.40352490e-01, -7.12358461e-01, -7.12358461e-01],\n",
       "          [ 2.95426588e-01,  2.39438530e-01,  1.83450472e-01, ...,\n",
       "           -7.68346519e-01, -7.40352490e-01, -7.40352490e-01],\n",
       "          ...,\n",
       "          [ 1.83450472e-01,  1.83450472e-01,  1.83450472e-01, ...,\n",
       "           -3.00786885e+00, -3.00786885e+00, -3.00786885e+00],\n",
       "          [ 2.11444501e-01,  1.83450472e-01,  1.83450472e-01, ...,\n",
       "           -3.00786885e+00, -3.00786885e+00, -3.00786885e+00],\n",
       "          [ 2.39438530e-01,  2.11444501e-01,  1.83450472e-01, ...,\n",
       "           -3.00786885e+00, -3.00786885e+00, -3.03586288e+00]],\n",
       "  \n",
       "         [[ 2.56196648e-01,  2.27438297e-01,  1.98679946e-01, ...,\n",
       "           -8.07862349e-01, -8.07862349e-01, -7.79103998e-01],\n",
       "          [ 2.27438297e-01,  1.98679946e-01,  1.41163243e-01, ...,\n",
       "           -8.94137403e-01, -8.94137403e-01, -8.36620700e-01],\n",
       "          [ 1.98679946e-01,  1.41163243e-01,  8.36465405e-02, ...,\n",
       "           -9.80412457e-01, -9.51654106e-01, -8.94137403e-01],\n",
       "          ...,\n",
       "          [ 2.27438297e-01,  2.56196648e-01,  2.56196648e-01, ...,\n",
       "           -3.07977210e+00, -3.07977210e+00, -3.10853045e+00],\n",
       "          [ 2.56196648e-01,  2.56196648e-01,  2.56196648e-01, ...,\n",
       "           -3.07977210e+00, -3.07977210e+00, -3.07977210e+00],\n",
       "          [ 2.56196648e-01,  2.56196648e-01,  2.56196648e-01, ...,\n",
       "           -3.07977210e+00, -3.07977210e+00, -3.07977210e+00]],\n",
       "  \n",
       "         [[ 2.29020172e-01,  2.00470923e-01,  1.43372425e-01, ...,\n",
       "           -7.98752791e-01, -7.70203542e-01, -7.41654293e-01],\n",
       "          [ 2.00470923e-01,  1.43372425e-01,  8.62739271e-02, ...,\n",
       "           -8.84400537e-01, -8.27302040e-01, -7.70203542e-01],\n",
       "          [ 1.71921674e-01,  8.62739271e-02,  5.77246781e-02, ...,\n",
       "           -9.41499035e-01, -9.12949786e-01, -8.55851288e-01],\n",
       "          ...,\n",
       "          [ 2.29020172e-01,  2.57569421e-01,  2.29020172e-01, ...,\n",
       "           -3.05414346e+00, -3.08269271e+00, -3.08269271e+00],\n",
       "          [ 2.29020172e-01,  2.57569421e-01,  2.57569421e-01, ...,\n",
       "           -3.05414346e+00, -3.08269271e+00, -3.05414346e+00],\n",
       "          [ 2.57569421e-01,  2.57569421e-01,  2.86118670e-01, ...,\n",
       "           -3.05414346e+00, -3.05414346e+00, -3.05414346e+00]]])],\n",
       " [tensor([37,  2,  9, 14, 37,  2, 12, 21,  5, 37,  1, 20, 37, 25, 37,  6,  9, 22,\n",
       "           5, 37, 14, 15, 23]),\n",
       "  tensor([37,  2,  9, 14, 37,  2, 12, 21,  5, 37,  2, 25, 37,  7, 37,  5,  9,  7,\n",
       "           8, 20, 37, 19, 15, 15, 14])])"
      ]
     },
     "execution_count": 4,
     "metadata": {},
     "output_type": "execute_result"
    }
   ],
   "source": [
    "# Create the dataloaders of our project\n",
    "path_data = \"data/matching/fronts\" # \"data/lombardgrid_front/lombardgrid/front\"\n",
    "path_labels = \"data/matching/labels\" # \"data/lombardgrid_alignment/lombardgrid/alignment\"\n",
    "\n",
    "dataLoader = GNLDataLoader(path_labels, path_data, transform=None, debug=True)\n",
    "\n",
    "# Test\n",
    "print(\n",
    "    f\"[DEBUG] Items in the data folder: {len(sorted(os.listdir(path_data)))}\",\n",
    "    f\"[DEBUG] Items in the labels folder: {len(sorted(os.listdir(path_labels)))}\",\n",
    "    sep=\"\\n\"\n",
    ")\n",
    "\n",
    "part_of_dataset = dataLoader[1:3]"
   ]
  },
  {
   "cell_type": "markdown",
   "metadata": {},
   "source": [
    "## 4) Model Settings"
   ]
  },
  {
   "cell_type": "markdown",
   "metadata": {},
   "source": [
    "The following settings are applied:\n",
    "> `device`: specifies where the model must be trained. If an Nvidia GPU is detected, then CUDA will be used;<br>\n",
    "> `epochs`: the number of epochs;<br>\n",
    "> `batch_size`: the size of each singular batch of analysed images;<br>\n",
    "> `learning_rate`: `N/A`;<br>\n",
    "> `loss_fn`: the loss function of the model;<br>\n",
    "> `optimizer`: the optimizer of the model. For now it's `AdamW`, which is more performant than `SGD`."
   ]
  },
  {
   "cell_type": "markdown",
   "metadata": {},
   "source": [
    "The model has the following layers:\n",
    "\n",
    "$$\n",
    "\\underbrace{x}_{\\text{input}} \\goto \\underbrace{st_0(3, \\; 5, \\; 5)}_{\\text{ST CNN}} \\goto \\underbrace{p_0(1, \\; 2, \\; 2)}_{\\text{Normalization Pool}} \\goto \\underbrace{st_1(3, \\; 5, \\; 5)}_{\\text{ST CNN}} \\goto \\underbrace{p_1(1, \\; 2, \\; 2)}_{\\text{Normalization Pool}} \\goto\n",
    "$$\n",
    "$$\n",
    "\\goto \\underbrace{st_2(3, \\; 5, \\; 5)}_{\\text{ST CNN}} \\goto \\underbrace{p_2(1, \\; 2, \\; 2)}_{\\text{Normalization Pool}} \\goto \\underbrace{y}_{\\text{Output}}\n",
    "$$"
   ]
  },
  {
   "cell_type": "code",
   "execution_count": null,
   "metadata": {},
   "outputs": [],
   "source": [
    "device = \"cuda\" if torch.cuda.is_available() else \"cpu\"\n",
    "\n",
    "model = LabialCNN(debug=True).to(device)\n",
    "\n",
    "epochs = 2\n",
    "batch_size = 16\n",
    "learning_rate = 0.0001\n",
    "\n",
    "loss_fn = nn.CrossEntropyLoss()\n",
    "optimizer = torch.optim.AdamW(model.parameters(), lr=learning_rate)"
   ]
  }
 ],
 "metadata": {
  "kernelspec": {
   "display_name": "Python 3",
   "language": "python",
   "name": "python3"
  },
  "language_info": {
   "codemirror_mode": {
    "name": "ipython",
    "version": 3
   },
   "file_extension": ".py",
   "mimetype": "text/x-python",
   "name": "python",
   "nbconvert_exporter": "python",
   "pygments_lexer": "ipython3",
   "version": "3.10.13"
  }
 },
 "nbformat": 4,
 "nbformat_minor": 2
}
